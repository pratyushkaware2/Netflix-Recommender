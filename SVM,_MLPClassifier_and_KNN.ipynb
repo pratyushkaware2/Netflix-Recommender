{
  "cells": [
    {
      "cell_type": "code",
      "execution_count": null,
      "metadata": {
        "colab": {
          "base_uri": "https://localhost:8080/"
        },
        "id": "bHsMzk8sgJhc",
        "outputId": "051cc2a5-fa64-4a91-e7ac-db3eedfd4cee"
      },
      "outputs": [
        {
          "output_type": "stream",
          "name": "stdout",
          "text": [
            "Mounted at /content/drive\n"
          ]
        }
      ],
      "source": [
        "# from google.colab import drive\n",
        "# drive.mount('/content/drive')"
      ]
    },
    {
      "cell_type": "markdown",
      "metadata": {
        "id": "Ii05ZRWHg1FD"
      },
      "source": [
        "# **Import and rescale dataset.**"
      ]
    },
    {
      "cell_type": "code",
      "execution_count": null,
      "metadata": {
        "colab": {
          "base_uri": "https://localhost:8080/"
        },
        "id": "VAXJYiwXOY4d",
        "outputId": "caae929a-d42b-4e51-9f1a-0724c0fefd64"
      },
      "outputs": [
        {
          "output_type": "stream",
          "name": "stderr",
          "text": [
            "/usr/local/lib/python3.8/dist-packages/sklearn/datasets/_openml.py:932: FutureWarning: The default value of `parser` will change from `'liac-arff'` to `'auto'` in 1.4. You can set `parser='auto'` to silence this warning. Therefore, an `ImportError` will be raised from 1.4 if the dataset is dense and pandas is not installed. Note that the pandas parser may return different data types. See the Notes Section in fetch_openml's API doc for details.\n",
            "  warn(\n"
          ]
        }
      ],
      "source": [
        "from sklearn.datasets import fetch_openml\n",
        "# Load data from https://www.openml.org/d/554\n",
        "X, y = fetch_openml('mnist_784', version=1, return_X_y=True)\n",
        "X = X / 255.\n",
        "# rescale the data, use the traditional train/test split\n",
        "# (60K: Train) and (10K: Test)\n",
        "X_train, X_test = X[:60000], X[60000:]\n",
        "1\n",
        "y_train, y_test = y[:60000], y[60000:]"
      ]
    },
    {
      "cell_type": "markdown",
      "metadata": {
        "id": "S7V8VECahLpf"
      },
      "source": [
        "# **Support Vector Machine Model:**\n",
        "### Finding optimal kernel and penalty value to get highest accuracy."
      ]
    },
    {
      "cell_type": "code",
      "execution_count": null,
      "metadata": {
        "colab": {
          "background_save": true,
          "base_uri": "https://localhost:8080/"
        },
        "id": "4ef0BrycPVnz",
        "outputId": "4af06b17-ff17-419d-a068-fd40ad571cb6"
      },
      "outputs": [
        {
          "name": "stdout",
          "output_type": "stream",
          "text": [
            "======================= poly =============================\n",
            "C: 0.5 Kernel: poly Accuracy: 0.9731\n",
            "C: 1 Kernel: poly Accuracy: 0.9771\n",
            "======================= rbf =============================\n",
            "C: 0.5 Kernel: rbf Accuracy: 0.9759\n",
            "C: 1 Kernel: rbf Accuracy: 0.9792\n",
            "======================= sigmoid =============================\n",
            "C: 0.5 Kernel: sigmoid Accuracy: 0.7897\n",
            "C: 1 Kernel: sigmoid Accuracy: 0.7759\n",
            "======================= linear =============================\n",
            "C: 0.5 Kernel: linear Accuracy: 0.943\n",
            "C: 1 Kernel: linear Accuracy: 0.9404\n"
          ]
        }
      ],
      "source": [
        "import numpy as np\n",
        "from sklearn.pipeline import make_pipeline\n",
        "from sklearn.preprocessing import StandardScaler\n",
        "from sklearn.svm import SVC\n",
        "from sklearn.metrics import precision_recall_fscore_support\n",
        "import pickle\n",
        "op_path = '/content/drive/MyDrive/DATASET/'\n",
        "for kernel in ['poly', 'rbf', 'sigmoid', 'linear', ]:\n",
        "  print(\"=======================\",kernel,\"=============================\")\n",
        "  for C in [0.1, 1]:\n",
        "    clf =  SVC(C= C, kernel = kernel)\n",
        "    clf.fit(X_train, y_train)\n",
        "    # p_out = open(op_path + 'C'+ str(C).replace('.','_')+'Kernel_'+kernel+'_model.pickle','wb')\n",
        "    # pickle.dump(clf, p_out)\n",
        "    # p_out.close()\n",
        "    print(\"C:\", C, \"Kernel:\", kernel, \"Accuracy:\", clf.score(X_test, y_test))\n"
      ]
    },
    {
      "cell_type": "code",
      "execution_count": null,
      "metadata": {
        "id": "6S8PcJZBjwF2"
      },
      "outputs": [],
      "source": [
        "# import os, pickle\n",
        "# models = []\n",
        "# op_path = '/content/drive/MyDrive/DATASET/models/'\n",
        "# for filename in (os.listdir('/content/drive/MyDrive/DATASET/models')):\n",
        "#   clf = pickle.load(open(op_path + filename,'rb'))\n",
        "#   print(filename, clf.score(X_test, y_test))\n",
        "#   models.append((filename, clf.score(X_test, y_test)))\n",
        "# print(sorted(models, key = lambda x: x[1]))"
      ]
    },
    {
      "cell_type": "code",
      "source": [
        "# import pickle\n",
        "# models = []\n",
        "# op_path = '/content/drive/MyDrive/DATASET/models/'\n",
        "# clf = pickle.load(open(op_path + 'C1Kernel_rbf_model.pickle','rb'))\n",
        "# ypred = clf.predict(X_test)\n",
        "# print(precision_recall_fscore_support(y_test, ypred, average='macro'))"
      ],
      "metadata": {
        "colab": {
          "base_uri": "https://localhost:8080/"
        },
        "id": "jE28sNTpHE_1",
        "outputId": "abe660b5-fe79-4fd8-fdc3-8c2ded60814d"
      },
      "execution_count": null,
      "outputs": [
        {
          "output_type": "stream",
          "name": "stderr",
          "text": [
            "/usr/local/lib/python3.8/dist-packages/sklearn/base.py:299: UserWarning: Trying to unpickle estimator SVC from version 1.0.2 when using version 1.2.1. This might lead to breaking code or invalid results. Use at your own risk. For more info please refer to:\n",
            "https://scikit-learn.org/stable/model_persistence.html#security-maintainability-limitations\n",
            "  warnings.warn(\n"
          ]
        },
        {
          "output_type": "stream",
          "name": "stdout",
          "text": [
            "(0.9791973966593345, 0.9790919842945065, 0.9791298259748042, None)\n"
          ]
        }
      ]
    },
    {
      "cell_type": "markdown",
      "metadata": {
        "id": "_jsup551gjDe"
      },
      "source": [
        "# **MLP Classifier:**"
      ]
    },
    {
      "cell_type": "code",
      "source": [
        "from sklearn.neural_network import MLPClassifier\n",
        "clf = MLPClassifier(random_state=1, activation='relu', max_iter=300, hidden_layer_sizes = (500,)).fit(X_train, y_train)\n",
        "print(\"Accuracy:\",clf.score(X_test, y_test))"
      ],
      "metadata": {
        "colab": {
          "base_uri": "https://localhost:8080/"
        },
        "id": "Pd0ZTofCTyjN",
        "outputId": "1375b7b0-b002-44f2-e644-0de99ee684f2"
      },
      "execution_count": null,
      "outputs": [
        {
          "output_type": "stream",
          "name": "stdout",
          "text": [
            "Accuracy: 0.9844\n"
          ]
        }
      ]
    },
    {
      "cell_type": "code",
      "source": [
        "from sklearn.neural_network import MLPClassifier\n",
        "clf = MLPClassifier(random_state=1, activation='relu', max_iter=300, hidden_layer_sizes = (1000,)).fit(X_train, y_train)\n",
        "print(\"Accuracy:\",clf.score(X_test, y_test))"
      ],
      "metadata": {
        "colab": {
          "base_uri": "https://localhost:8080/"
        },
        "id": "UaF0HmU5VKCV",
        "outputId": "664b196f-7a51-474c-a845-0c976c8d7580"
      },
      "execution_count": null,
      "outputs": [
        {
          "output_type": "stream",
          "name": "stdout",
          "text": [
            "Accuracy: 0.9821\n"
          ]
        }
      ]
    },
    {
      "cell_type": "code",
      "execution_count": null,
      "metadata": {
        "colab": {
          "base_uri": "https://localhost:8080/"
        },
        "id": "jcDL6zxbQVH7",
        "outputId": "55cf3282-b7ff-41f5-cfab-5809d0ae909b"
      },
      "outputs": [
        {
          "output_type": "stream",
          "name": "stdout",
          "text": [
            "Accuracy: 0.9791\n",
            "Accuracy: 0.9809\n",
            "Accuracy: 0.974\n",
            "Accuracy: 0.983\n",
            "Accuracy: 0.9844\n"
          ]
        }
      ],
      "source": [
        "from sklearn.neural_network import MLPClassifier\n",
        "clf = MLPClassifier(random_state=1, activation='relu', max_iter=300, hidden_layer_sizes = (100,)).fit(X_train, y_train)\n",
        "print(\"Accuracy:\",clf.score(X_test, y_test))\n",
        "clf = MLPClassifier(random_state=1, activation='relu', max_iter=300, hidden_layer_sizes = (200,)).fit(X_train, y_train)\n",
        "print(\"Accuracy:\",clf.score(X_test, y_test))\n",
        "clf = MLPClassifier(random_state=1, activation='relu', max_iter=300, hidden_layer_sizes = (300,)).fit(X_train, y_train)\n",
        "print(\"Accuracy:\",clf.score(X_test, y_test))\n",
        "clf = MLPClassifier(random_state=1, activation='relu', max_iter=300, hidden_layer_sizes = (400,)).fit(X_train, y_train)\n",
        "print(\"Accuracy:\",clf.score(X_test, y_test))\n",
        "clf = MLPClassifier(random_state=1, activation='relu', max_iter=300, hidden_layer_sizes = (500,)).fit(X_train, y_train)\n",
        "print(\"Accuracy:\",clf.score(X_test, y_test))"
      ]
    },
    {
      "cell_type": "code",
      "execution_count": null,
      "metadata": {
        "id": "lYCimZo12FEu",
        "colab": {
          "base_uri": "https://localhost:8080/"
        },
        "outputId": "6e8bca91-e6b1-4dbd-8a39-e3d5ea7ec7d6"
      },
      "outputs": [
        {
          "output_type": "stream",
          "name": "stdout",
          "text": [
            "Accuracy: 0.9791\n",
            "Accuracy: 0.9809\n",
            "Accuracy: 0.974\n",
            "Accuracy: 0.983\n",
            "Accuracy: 0.9844\n"
          ]
        }
      ],
      "source": [
        "from sklearn.neural_network import MLPClassifier\n",
        "clf = MLPClassifier(random_state=1, activation='relu', max_iter=300, learning_rate = 'adaptive', hidden_layer_sizes = (100,)).fit(X_train, y_train)\n",
        "print(\"Accuracy:\",clf.score(X_test, y_test))\n",
        "clf = MLPClassifier(random_state=1, activation='relu', max_iter=300, learning_rate = 'adaptive', hidden_layer_sizes = (200,)).fit(X_train, y_train)\n",
        "print(\"Accuracy:\",clf.score(X_test, y_test))\n",
        "clf = MLPClassifier(random_state=1, activation='relu', max_iter=300,learning_rate = 'adaptive', hidden_layer_sizes = (300,)).fit(X_train, y_train)\n",
        "print(\"Accuracy:\",clf.score(X_test, y_test))\n",
        "clf = MLPClassifier(random_state=1, activation='relu', max_iter=300,learning_rate = 'adaptive', hidden_layer_sizes = (400,)).fit(X_train, y_train)\n",
        "print(\"Accuracy:\",clf.score(X_test, y_test))\n",
        "clf = MLPClassifier(random_state=1, activation='relu', max_iter=300,learning_rate = 'adaptive', hidden_layer_sizes = (500,)).fit(X_train, y_train)\n",
        "print(\"Accuracy:\",clf.score(X_test, y_test))"
      ]
    },
    {
      "cell_type": "code",
      "source": [
        "from sklearn.neural_network import MLPClassifier\n",
        "clf = MLPClassifier(random_state=1, activation='relu', max_iter=300,learning_rate = 'adaptive', hidden_layer_sizes = (500,)).fit(X_train, y_train)\n",
        "print(\"Accuracy:\",clf.score(X_test, y_test))\n",
        "ypred = clf.predict(X_test)\n",
        "print(precision_recall_fscore_support(y_test, ypred, average='macro'))"
      ],
      "metadata": {
        "colab": {
          "base_uri": "https://localhost:8080/"
        },
        "id": "3G3yXoQtJdlq",
        "outputId": "2cb6ce9c-0aa8-421b-eac9-2b0f482227e2"
      },
      "execution_count": null,
      "outputs": [
        {
          "output_type": "stream",
          "name": "stdout",
          "text": [
            "(0.9844182101258386, 0.9842316426988591, 0.984317232768604, None)\n"
          ]
        }
      ]
    },
    {
      "cell_type": "markdown",
      "metadata": {
        "id": "XHXAYoGRcvqE"
      },
      "source": [
        "# **K Nearest Neighbours Model:**\n",
        "### Finding optimal value for number of neighbors."
      ]
    },
    {
      "cell_type": "code",
      "execution_count": null,
      "metadata": {
        "colab": {
          "base_uri": "https://localhost:8080/"
        },
        "id": "X242MoRU5XlS",
        "outputId": "d418ca97-78e1-4bba-a4d6-2157cd02b5c1"
      },
      "outputs": [
        {
          "output_type": "stream",
          "name": "stdout",
          "text": [
            "Accuracy: 0.9691\n"
          ]
        }
      ],
      "source": [
        "from sklearn.neighbors import KNeighborsClassifier\n",
        "neigh = KNeighborsClassifier(n_neighbors=1)\n",
        "neigh.fit(X_train, y_train)\n",
        "print(\"Accuracy:\",neigh.score(X_test, y_test))"
      ]
    },
    {
      "cell_type": "code",
      "execution_count": null,
      "metadata": {
        "colab": {
          "base_uri": "https://localhost:8080/"
        },
        "id": "JiMAJcIoZjsz",
        "outputId": "671ea839-8029-4216-dc65-7f4b255a2886"
      },
      "outputs": [
        {
          "name": "stdout",
          "output_type": "stream",
          "text": [
            "Accuracy: 0.9627\n"
          ]
        }
      ],
      "source": [
        "from sklearn.neighbors import KNeighborsClassifier\n",
        "neigh = KNeighborsClassifier(n_neighbors=2, algorithm = 'kd_tree')\n",
        "neigh.fit(X_train, y_train)\n",
        "print(\"Accuracy:\",neigh.score(X_test, y_test))"
      ]
    },
    {
      "cell_type": "code",
      "execution_count": null,
      "metadata": {
        "colab": {
          "base_uri": "https://localhost:8080/"
        },
        "id": "S9ptzazP1X9R",
        "outputId": "81d0f5e9-c17f-4e32-923b-dc088fb0bb40"
      },
      "outputs": [
        {
          "name": "stdout",
          "output_type": "stream",
          "text": [
            "Accuracy: 0.9627\n"
          ]
        }
      ],
      "source": [
        "from sklearn.neighbors import KNeighborsClassifier\n",
        "neigh = KNeighborsClassifier(n_neighbors=2, algorithm = 'brute')\n",
        "neigh.fit(X_train, y_train)\n",
        "print(\"Accuracy:\",neigh.score(X_test, y_test))"
      ]
    },
    {
      "cell_type": "code",
      "execution_count": null,
      "metadata": {
        "colab": {
          "base_uri": "https://localhost:8080/"
        },
        "id": "g7yAJ5LH43Yl",
        "outputId": "c4458ffe-5f08-41f9-a3d9-65d2d2252cb1"
      },
      "outputs": [
        {
          "name": "stdout",
          "output_type": "stream",
          "text": [
            "Accuracy: 0.9627\n"
          ]
        }
      ],
      "source": [
        "from sklearn.neighbors import KNeighborsClassifier\n",
        "neigh = KNeighborsClassifier(n_neighbors=2, algorithm = 'ball_tree')\n",
        "neigh.fit(X_train, y_train)\n",
        "print(\"Accuracy:\",neigh.score(X_test, y_test))"
      ]
    },
    {
      "cell_type": "code",
      "execution_count": null,
      "metadata": {
        "colab": {
          "base_uri": "https://localhost:8080/"
        },
        "id": "ZNkmApS5Qf9t",
        "outputId": "2c3d3d29-df33-45ec-ae6a-3106798c8f5b"
      },
      "outputs": [
        {
          "name": "stdout",
          "output_type": "stream",
          "text": [
            "Accuracy: 0.9705\n"
          ]
        }
      ],
      "source": [
        "from sklearn.neighbors import KNeighborsClassifier\n",
        "neigh = KNeighborsClassifier(n_neighbors=3, algorithm = 'kd_tree')\n",
        "neigh.fit(X_train, y_train)\n",
        "print(\"Accuracy:\",neigh.score(X_test, y_test))"
      ]
    },
    {
      "cell_type": "code",
      "execution_count": null,
      "metadata": {
        "colab": {
          "base_uri": "https://localhost:8080/"
        },
        "id": "3eTfBaVh1oZj",
        "outputId": "9b14a057-a3dc-4ba1-ffd9-f75227141526"
      },
      "outputs": [
        {
          "output_type": "stream",
          "name": "stdout",
          "text": [
            "Accuracy: 0.9705\n",
            "(0.9709116052270813, 0.9701144344783679, 0.9703749561556656, None)\n"
          ]
        }
      ],
      "source": [
        "from sklearn.neighbors import KNeighborsClassifier\n",
        "neigh = KNeighborsClassifier(n_neighbors=3, algorithm = 'brute')\n",
        "neigh.fit(X_train, y_train)\n",
        "print(\"Accuracy:\",neigh.score(X_test, y_test))\n",
        "ypred = neigh.predict(X_test)\n",
        "print(precision_recall_fscore_support(y_test, ypred, average='macro'))"
      ]
    },
    {
      "cell_type": "code",
      "execution_count": null,
      "metadata": {
        "colab": {
          "base_uri": "https://localhost:8080/"
        },
        "id": "qbdJiAAA4-rX",
        "outputId": "493a5f72-c076-4559-e3fd-f4e26869e9c8"
      },
      "outputs": [
        {
          "name": "stdout",
          "output_type": "stream",
          "text": [
            "Accuracy: 0.9705\n"
          ]
        }
      ],
      "source": [
        "from sklearn.neighbors import KNeighborsClassifier\n",
        "neigh = KNeighborsClassifier(n_neighbors=3, algorithm = 'ball_tree')\n",
        "neigh.fit(X_train, y_train)\n",
        "print(\"Accuracy:\",neigh.score(X_test, y_test))"
      ]
    },
    {
      "cell_type": "code",
      "execution_count": null,
      "metadata": {
        "colab": {
          "base_uri": "https://localhost:8080/"
        },
        "id": "-PdVl5FWZmuW",
        "outputId": "a3d907e3-f4a2-44ee-d3f1-ba8e4f3bed94"
      },
      "outputs": [
        {
          "name": "stdout",
          "output_type": "stream",
          "text": [
            "Accuracy: 0.9682\n"
          ]
        }
      ],
      "source": [
        "from sklearn.neighbors import KNeighborsClassifier\n",
        "neigh = KNeighborsClassifier(n_neighbors=4, algorithm = 'kd_tree')\n",
        "neigh.fit(X_train, y_train)\n",
        "print(\"Accuracy:\",neigh.score(X_test, y_test))"
      ]
    },
    {
      "cell_type": "code",
      "execution_count": null,
      "metadata": {
        "colab": {
          "base_uri": "https://localhost:8080/"
        },
        "id": "ha3ffP8_5EI1",
        "outputId": "60eb70ce-2d6f-4dba-c3e7-df16bf295590"
      },
      "outputs": [
        {
          "output_type": "stream",
          "name": "stdout",
          "text": [
            "Accuracy: 0.9682\n"
          ]
        }
      ],
      "source": [
        "from sklearn.neighbors import KNeighborsClassifier\n",
        "neigh = KNeighborsClassifier(n_neighbors=4, algorithm = 'ball_tree')\n",
        "neigh.fit(X_train, y_train)\n",
        "print(\"Accuracy:\",neigh.score(X_test, y_test))"
      ]
    },
    {
      "cell_type": "code",
      "execution_count": null,
      "metadata": {
        "colab": {
          "base_uri": "https://localhost:8080/"
        },
        "id": "TqAvtAve1t2N",
        "outputId": "64b826b2-60c4-47ef-ace4-5609da061993"
      },
      "outputs": [
        {
          "output_type": "stream",
          "name": "stdout",
          "text": [
            "Accuracy: 0.9682\n"
          ]
        }
      ],
      "source": [
        "from sklearn.neighbors import KNeighborsClassifier\n",
        "neigh = KNeighborsClassifier(n_neighbors=4, algorithm = 'brute')\n",
        "neigh.fit(X_train, y_train)\n",
        "print(\"Accuracy:\",neigh.score(X_test, y_test))"
      ]
    }
  ],
  "metadata": {
    "colab": {
      "provenance": []
    },
    "kernelspec": {
      "display_name": "Python 3 (ipykernel)",
      "language": "python",
      "name": "python3"
    },
    "language_info": {
      "codemirror_mode": {
        "name": "ipython",
        "version": 3
      },
      "file_extension": ".py",
      "mimetype": "text/x-python",
      "name": "python",
      "nbconvert_exporter": "python",
      "pygments_lexer": "ipython3",
      "version": "3.9.13"
    }
  },
  "nbformat": 4,
  "nbformat_minor": 0
}